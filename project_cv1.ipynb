{
  "nbformat": 4,
  "nbformat_minor": 0,
  "metadata": {
    "colab": {
      "name": "Untitled6.ipynb",
      "provenance": []
    },
    "kernelspec": {
      "name": "python3",
      "display_name": "Python 3"
    },
    "language_info": {
      "name": "python"
    }
  },
  "cells": [
    {
      "cell_type": "code",
      "metadata": {
        "id": "H20HYaIgiTjU"
      },
      "source": [
        "!pip install keras-tuner"
      ],
      "execution_count": null,
      "outputs": []
    },
    {
      "cell_type": "code",
      "metadata": {
        "id": "G0InQ-JYie81"
      },
      "source": [
        "import tensorflow as tf\n",
        "from tensorflow import keras\n",
        "import numpy as np"
      ],
      "execution_count": null,
      "outputs": []
    },
    {
      "cell_type": "code",
      "metadata": {
        "id": "lMTMmS4Jiitc"
      },
      "source": [
        "fashion_mnist= keras.datasets.fashion_mnist"
      ],
      "execution_count": null,
      "outputs": []
    },
    {
      "cell_type": "code",
      "metadata": {
        "id": "SLt4k7C5im4r"
      },
      "source": [
        "(train_images, train_labels),(test_images, test_labels) = fashion_mnist.load_data()"
      ],
      "execution_count": null,
      "outputs": []
    },
    {
      "cell_type": "code",
      "metadata": {
        "id": "hwsyUmOZipWT"
      },
      "source": [
        "train_images = train_images/255.0\n",
        "test_images = test_images/255.0"
      ],
      "execution_count": null,
      "outputs": []
    },
    {
      "cell_type": "code",
      "metadata": {
        "id": "qPIeX73Ai0Q1"
      },
      "source": [
        "train_images[0].shape"
      ],
      "execution_count": null,
      "outputs": []
    },
    {
      "cell_type": "code",
      "metadata": {
        "id": "C5H2V3tTi3ik"
      },
      "source": [
        "train_images = train_images.reshape(len(train_images),28,28,1)\n",
        "test_images = test_images.reshape(len(test_images),28,28,1)"
      ],
      "execution_count": null,
      "outputs": []
    },
    {
      "cell_type": "code",
      "metadata": {
        "id": "zjFlBW5pi7CT"
      },
      "source": [
        "def build_model(hp):\n",
        "  model = keras.Sequential([\n",
        "      keras.layers.Conv2D(\n",
        "          filters = hp.Int('conv_1_filter', min_value = 32, max_value = 128, step =16),\n",
        "          kernel_size= hp.Choice('conv_1_kernel', values = [3,5]),\n",
        "          activation='relu',\n",
        "          input_shape=(28,28,1)\n",
        "      ),\n",
        "      keras.layers.Conv2D(\n",
        "          filters = hp.Int('conv_2_filter', min_value = 32, max_value = 64, step =16),\n",
        "          kernel_size= hp.Choice('conv_2_kernel', values = [3,5]),\n",
        "          activation='relu',\n",
        "      ),\n",
        "      keras.layers.Flatten(),\n",
        "      keras.layers.Dense(\n",
        "          units=hp.Int('dense_1_units', min_value = 32, max_value = 128, step =16),\n",
        "           activation='relu',\n",
        "      ),\n",
        "      keras.layers.Dense(10, activation = 'softmax') #output layer\n",
        "  ])\n",
        "  model.compile(optimizer = keras.optimizers.Adam(hp.Choice('learning_rate',values = [1e-2 , 1e-3])),\n",
        "                loss='sparse_categorical_crossentropy',\n",
        "                metrics=['accuracy'])\n",
        "  \n",
        "  return model"
      ],
      "execution_count": null,
      "outputs": []
    },
    {
      "cell_type": "code",
      "metadata": {
        "id": "srBsbhlZi-is"
      },
      "source": [
        "from kerastuner import RandomSearch\n",
        "from kerastuner.engine.hyperparameters import HyperParameters"
      ],
      "execution_count": null,
      "outputs": []
    },
    {
      "cell_type": "code",
      "metadata": {
        "id": "Gzd8RuW_no1V"
      },
      "source": [
        "tuner_search= RandomSearch(build_model,\n",
        "                           objective='val_accuracy',\n",
        "                           max_trials=5, directory='output', project_name=\"Mnist Fashion\")"
      ],
      "execution_count": null,
      "outputs": []
    },
    {
      "cell_type": "code",
      "metadata": {
        "id": "We2Ri996oUgr",
        "colab": {
          "base_uri": "https://localhost:8080/"
        },
        "outputId": "1209d077-bbd0-4f18-fb98-e6e92cdc6342"
      },
      "source": [
        "tuner_search.search(train_images,train_labels,epochs=3,validation_split=0.1)"
      ],
      "execution_count": null,
      "outputs": [
        {
          "output_type": "stream",
          "text": [
            "\n",
            "Search: Running Trial #8\n",
            "\n",
            "Hyperparameter    |Value             |Best Value So Far \n",
            "conv_1_filter     |96                |32                \n",
            "conv_1_kernel     |5                 |3                 \n",
            "conv_2_filter     |48                |64                \n",
            "conv_2_kernel     |3                 |5                 \n",
            "dense_1_units     |32                |80                \n",
            "learning_rate     |0.001             |0.001             \n",
            "\n",
            "Epoch 1/3\n",
            " 956/1688 [===============>..............] - ETA: 1:43 - loss: 0.5126 - accuracy: 0.8182"
          ],
          "name": "stdout"
        }
      ]
    },
    {
      "cell_type": "code",
      "metadata": {
        "id": "X1kCjh9fqMdq"
      },
      "source": [
        "model = tuner_search.get_best_models(num_models=1)[0]"
      ],
      "execution_count": null,
      "outputs": []
    },
    {
      "cell_type": "code",
      "metadata": {
        "id": "LdfCcA5Zqi65"
      },
      "source": [
        "model.summary()"
      ],
      "execution_count": null,
      "outputs": []
    }
  ]
}